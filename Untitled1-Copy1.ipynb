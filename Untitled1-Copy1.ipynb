{
 "cells": [
  {
   "cell_type": "code",
   "execution_count": 23,
   "metadata": {
    "scrolled": true
   },
   "outputs": [
    {
     "name": "stdout",
     "output_type": "stream",
     "text": [
      "[[1. 0. 0. 0. 0. 0. 0. 0. 0. 0. 1.]\n",
      " [0. 1. 0. 0. 0. 0. 0. 0. 0. 1. 0.]\n",
      " [0. 0. 1. 0. 0. 0. 0. 0. 1. 0. 0.]\n",
      " [0. 0. 0. 1. 0. 0. 0. 1. 0. 0. 0.]\n",
      " [0. 0. 0. 0. 1. 0. 1. 0. 0. 0. 0.]\n",
      " [0. 0. 0. 0. 0. 1. 0. 0. 0. 0. 0.]\n",
      " [0. 0. 0. 0. 1. 0. 1. 0. 0. 0. 0.]\n",
      " [0. 0. 0. 1. 0. 0. 0. 1. 0. 0. 0.]\n",
      " [0. 0. 1. 0. 0. 0. 0. 0. 1. 0. 0.]\n",
      " [0. 1. 0. 0. 0. 0. 0. 0. 0. 1. 0.]\n",
      " [1. 0. 0. 0. 0. 0. 0. 0. 0. 0. 1.]]\n"
     ]
    }
   ],
   "source": [
    "import numpy as np\n",
    "size = 11\n",
    "arr = np.zeros((size,size))\n",
    "for g in range (2):\n",
    "    for i in range(size):\n",
    "      for j in range(size):\n",
    "        if (i==j):\n",
    "          arr[i][j]=1\n",
    "    arr=arr[ : :-1]        \n",
    "print(arr)"
   ]
  },
  {
   "cell_type": "code",
   "execution_count": 21,
   "metadata": {},
   "outputs": [
    {
     "data": {
      "text/plain": [
       "True"
      ]
     },
     "execution_count": 21,
     "metadata": {},
     "output_type": "execute_result"
    }
   ],
   "source": [
    "import cv2\n",
    "import numpy as np\n",
    "horizontal_gradient1 = np.zeros((255,255))\n",
    "w = horizontal_gradient1.shape[1]\n",
    "h = horizontal_gradient1.shape[0]\n",
    "for i in range(h):\n",
    "    for j in range(w):\n",
    "        horizontal_gradient1[i][j] =++j\n",
    "cv2.imwrite('horizontal_grad1.jpg', horizontal_gradient1)\n",
    "\n",
    "horizontal_gradient2 = np.zeros((size,size))\n",
    "w = horizontal_gradient2.shape[0]\n",
    "h = horizontal_gradient2.shape[1]\n",
    "for i in range(h):\n",
    "    for j in range(w):\n",
    "        horizontal_gradient2[i][j] =w-j         \n",
    "cv2.imwrite('horizontal_grad2.jpg', horizontal_gradient2)\n",
    "\n",
    "\n",
    "vertical_gradient1 = np.zeros((255,255))\n",
    "w = vertical_gradient1.shape[1]\n",
    "h = vertical_gradient1.shape[0]\n",
    "for i in range(w):\n",
    "    for j in range(h):\n",
    "        vertical_gradient1[i][j] = ++i\n",
    "cv2.imwrite('vertical_grad1.jpg', vertical_gradient1)\n",
    "\n",
    "vertical_gradient2 = np.zeros((255,255))\n",
    "w = vertical_gradient2.shape[1]\n",
    "h = vertical_gradient2.shape[0]\n",
    "for i in range(w):\n",
    "    for j in range(h):\n",
    "        vertical_gradient2[i][j] = w-i        \n",
    "cv2.imwrite('vertical_grad2.jpg', vertical_gradient2)"
   ]
  },
  {
   "cell_type": "code",
   "execution_count": null,
   "metadata": {},
   "outputs": [],
   "source": []
  },
  {
   "cell_type": "code",
   "execution_count": null,
   "metadata": {},
   "outputs": [],
   "source": []
  }
 ],
 "metadata": {
  "kernelspec": {
   "display_name": "Python 3",
   "language": "python",
   "name": "python3"
  },
  "language_info": {
   "codemirror_mode": {
    "name": "ipython",
    "version": 3
   },
   "file_extension": ".py",
   "mimetype": "text/x-python",
   "name": "python",
   "nbconvert_exporter": "python",
   "pygments_lexer": "ipython3",
   "version": "3.6.9"
  }
 },
 "nbformat": 4,
 "nbformat_minor": 4
}
